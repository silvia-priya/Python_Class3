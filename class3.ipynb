{
 "cells": [
  {
   "cell_type": "code",
   "execution_count": null,
   "metadata": {},
   "outputs": [],
   "source": [
    "#File IO operation\n",
    "#File names,modes are enclosed in quotes\n",
    "file_read=open(\"samplefile2.txt\",\"r\") #file object -- file_read\n",
    "#File contents can be read in 3 ways\n",
    "#read() --> read completely\n",
    "#readline() --> line by line\n",
    "#readline(n) --> n is the number of characters\n",
    "#using loops\n",
    "\n",
    "#for f in file_read:\n",
    "    #print(f,end='') #end=''. By default while reading there will be \\n char\n",
    "    \n",
    "#print(file_read.read())\n",
    "#print(file_read.readline()) #Read the file line by line\n",
    "print(file_read.readline(3)) #Read the characters\n",
    "file_read.close() #"
   ]
  },
  {
   "cell_type": "code",
   "execution_count": null,
   "metadata": {},
   "outputs": [],
   "source": [
    "file_obj = open(\"fileoperations\")\n",
    "\n",
    "for f in file_obj:\n",
    "    print(f,end='')\n"
   ]
  },
  {
   "cell_type": "code",
   "execution_count": null,
   "metadata": {},
   "outputs": [],
   "source": [
    "#When you open a file in write mode, the old contents get deleted and only the new entered records will be present.\n",
    "file_write=open(\"fileoperations\",\"w\")\n",
    "\n",
    "file_write.write(\"This is going to be the first line\\n\")\n",
    "\n",
    "\n",
    "for j in range(0,4):\n",
    "    file_write.write(\"Python online classes\\n\") #write method will not automatically add the \\n char at the end\n",
    "\n",
    "\n",
    "file_write.close()\n",
    "#####"
   ]
  },
  {
   "cell_type": "code",
   "execution_count": null,
   "metadata": {},
   "outputs": [],
   "source": [
    "#Opened the written file in read mode\n",
    "file_write_read = open(\"samplefile3.txt\",\"r\")\n",
    "print(file_write_read.read())"
   ]
  },
  {
   "cell_type": "code",
   "execution_count": null,
   "metadata": {},
   "outputs": [],
   "source": [
    "file_read1=open(\"fileoperations\",\"a\")\n",
    "for j in range(0,4): #write lines from 0 to 3\n",
    "    file_read1.write(\"Learning python file operations\")\n",
    "    file_read1.write(\"\\n\")"
   ]
  },
  {
   "cell_type": "code",
   "execution_count": null,
   "metadata": {},
   "outputs": [],
   "source": [
    "file_read1=open(\"fileoperations\",\"w+\")\n",
    "for j in range(0,4): #write lines from 0 to 3\n",
    "    file_read1.write(\"we are in w+ mode\")\n",
    "    file_read1.write(\"\\n\")\n",
    "print(file_read1.read())\n",
    "print(file_read1.tell())\n",
    "file_read1.seek(5)\n",
    "print(file_read1.read())"
   ]
  },
  {
   "cell_type": "code",
   "execution_count": null,
   "metadata": {},
   "outputs": [],
   "source": [
    "file_read1=open(\"fileoperations\",\"r+\")\n",
    "for j in range(0,4): #write lines from 0 to 3\n",
    "    file_read1.write(\"we are in r+ mode\")\n",
    "    file_read1.write(\"\\n\")\n",
    "print(file_read1.tell())\n",
    "file_read1.seek(0)\n",
    "print(file_read1.read())"
   ]
  },
  {
   "cell_type": "code",
   "execution_count": null,
   "metadata": {},
   "outputs": [],
   "source": [
    "file_read1=open(\"fileoperations\",\"a+\")\n",
    "for j in range(0,4): #write lines from 0 to 3\n",
    "    file_read1.write(\"we are in a+ mode\")\n",
    "    file_read1.write(\"\\n\")\n",
    "print(file_read1.tell())\n",
    "file_read1.seek(0)\n",
    "print(file_read1.read())"
   ]
  },
  {
   "cell_type": "code",
   "execution_count": null,
   "metadata": {},
   "outputs": [],
   "source": [
    "#append + mode = adding contents with the existing contents of a file\n",
    "\n",
    "file_read1=open(\"fileoperations\",\"a\")\n",
    "for j in range(0,4): #write lines from 0 to 3\n",
    "    file_read1.write(\"Learning python file operations\")\n",
    "    file_read1.write(\"\\n\")\n",
    "print(file_read1.tell()) #tell the current cursor position\n",
    "file_read1.seek(0)\n",
    "print(file_read1.tell())\n",
    "print(file_read1.read())\n",
    "file_read1.close()"
   ]
  },
  {
   "cell_type": "code",
   "execution_count": null,
   "metadata": {},
   "outputs": [],
   "source": []
  },
  {
   "cell_type": "code",
   "execution_count": null,
   "metadata": {},
   "outputs": [],
   "source": [
    "file_obj=open(\"fileoperations\",'w+')\n",
    "print(file_obj.read())\n",
    "for i in range(0,3):\n",
    "    file_obj.write(\"Adding new lines \\n\")\n",
    "file_obj.seek(0)\n",
    "print(file_obj.read())\n",
    "\n",
    "print(file_obj.closed)"
   ]
  },
  {
   "cell_type": "code",
   "execution_count": null,
   "metadata": {},
   "outputs": [],
   "source": [
    "#read() method will just read the complete contents of the file\n",
    "#seek() will move the cursor to the mentioned location or position\n",
    "#readlines() will read multiple characters based on the number mentioned inside it\n",
    "f2=open('samplefile3.txt','r')\n",
    "print(f2.closed) #To check whether the file is closed -- Boolean\n",
    "print(f2.mode) #To check the mode of the file\n",
    "print(f2.name) #To see the name\n",
    "f2.close()\n",
    "print(f2.closed) #To check whether the file is closed"
   ]
  },
  {
   "cell_type": "code",
   "execution_count": null,
   "metadata": {},
   "outputs": [],
   "source": [
    "#os module for renaming and removing the files\n",
    "import os\n",
    "#os.rename(\"samplefile3.txt\",\"samplefile__l.txt\")\n",
    "os.remove(\"samplefile__l.txt\")"
   ]
  },
  {
   "cell_type": "code",
   "execution_count": null,
   "metadata": {},
   "outputs": [],
   "source": []
  },
  {
   "cell_type": "code",
   "execution_count": null,
   "metadata": {},
   "outputs": [],
   "source": [
    "#os module is needed if we need to perform some file basic operations\n",
    "\n",
    "import os\n",
    "f3=os.path.dirname(os.path.realpath('__file__')) #Gives the directory under which the project is located\n",
    "print(f3)\n",
    "\n",
    "\n",
    "\n",
    "    "
   ]
  },
  {
   "cell_type": "code",
   "execution_count": null,
   "metadata": {},
   "outputs": [],
   "source": [
    "#os.path will actually give the parent directory under which the notebook exist\n",
    "#join function will add the file name to the mentioned directory\n",
    "#readline() will read the files line by line\n",
    "\n",
    "f4=os.path.join(f3,'samplefile.txt')\n",
    "print(f4)\n",
    "f5=open(f4,'r')\n",
    "print(f5.readline())\n",
    "\n",
    "f5.close()"
   ]
  },
  {
   "cell_type": "code",
   "execution_count": null,
   "metadata": {},
   "outputs": [],
   "source": [
    "#Best way to process a file\n",
    "#Using the with function you don't have to explicitly close the file object and hence the preferred way to perform operations on a file \n",
    "#is to use this way\n",
    "#Always use end='' when reading the file, because by default it adds a newline after every character\n",
    "with open('Fileoperations','r') as file_obj:\n",
    "    for f in file_obj.read():\n",
    "        print(f,end='') \n",
    "print(file_obj.closed)\n",
    "    #OR SIMPLY YOU CAN READ THE FILE    \n",
    "    #print(file_obj.read())\n",
    "    "
   ]
  },
  {
   "cell_type": "code",
   "execution_count": null,
   "metadata": {},
   "outputs": [],
   "source": [
    "#Renaming the file\n",
    "import os\n",
    "os.rename(\"samplefile.txt\",\"renamed1.txt\")"
   ]
  },
  {
   "cell_type": "code",
   "execution_count": null,
   "metadata": {},
   "outputs": [],
   "source": [
    "#Array creation and accessing\n",
    "\n",
    "import array as arr #import the package of arrays\n",
    "a = arr.array('i', [2, 4, 6, 8]) #int\n",
    "a1  =arr.array('f',[3.4,5.6,8.9]) #float -- [0] index \n",
    "print(\"First element:\", a[0])\n",
    "print(\"Second element:\", a[1])\n",
    "print(\"First last element:\", a[-1]) # last \n",
    "print(a[-2])\n",
    "print(\"elements\",a[::-1]) #reverse order\n",
    "print(a1[0])\n",
    "\n"
   ]
  },
  {
   "cell_type": "code",
   "execution_count": null,
   "metadata": {},
   "outputs": [],
   "source": [
    "import array as arr\n",
    "stri=arr.array('u',['a','b','c'])\n",
    "print(stri[0])\n",
    "print(stri)\n",
    "for i in stri:\n",
    "    print(i)"
   ]
  },
  {
   "cell_type": "code",
   "execution_count": null,
   "metadata": {},
   "outputs": [],
   "source": [
    "#Slicing teh arrays\n",
    "\n",
    "import array as arr\n",
    "\n",
    "numbers_list = [2, 5, 62, 5, 42, 52, 48, 5]\n",
    "numbers_array = arr.array('i', numbers_list)\n",
    "\n",
    "print(numbers_array[2:5]) # 3rd to 5th\n",
    "print(numbers_array[:-5]) # beginning to 4th .. :-1 from first till the last element\n",
    "print(numbers_array[5:])  # 6th to end\n",
    "print(numbers_array[:])   # beginning to end"
   ]
  },
  {
   "cell_type": "code",
   "execution_count": null,
   "metadata": {},
   "outputs": [],
   "source": [
    "#Modifying elements in array -- Mutable\n",
    "import array as arr\n",
    "\n",
    "numbers = arr.array('i', [1, 2, 3, 5, 7, 10])\n",
    "\n",
    "# changing first element\n",
    "numbers[0] = 0    \n",
    "print(numbers)     # Output: array('i', [0, 2, 3, 5, 7, 10])\n",
    "\n",
    "# changing 3rd to 5th element\n",
    "numbers[2:5] = arr.array('i', [4, 6, 8])   \n",
    "print(numbers)     # Output: array('i', [0, 2, 4, 6, 8, 10])\n",
    "    "
   ]
  },
  {
   "cell_type": "code",
   "execution_count": null,
   "metadata": {},
   "outputs": [],
   "source": [
    "#Extending the arrays\n",
    "import array as arr\n",
    "\n",
    "numbers = arr.array('i', [1, 2, 3])\n",
    "\n",
    "numbers.append(4)\n",
    "print(numbers)     # Output: array('i', [1, 2, 3, 4])\n",
    "\n",
    "# extend() appends iterable to the end of the array\n",
    "numbers.extend([5, 6, 7]) \n",
    "print(numbers)     # Output: array('i', [1, 2, 3, 4, 5, 6, 7])"
   ]
  },
  {
   "cell_type": "code",
   "execution_count": null,
   "metadata": {},
   "outputs": [],
   "source": [
    "#Concatenating two arrays\n",
    "import array as arr\n",
    "\n",
    "odd = arr.array('i', [1, 3, 5])\n",
    "even = arr.array('i', [2, 4, 6])\n",
    "\n",
    "numbers = arr.array('i')   # creating empty array of integer\n",
    "numbers = odd + even\n",
    "\n",
    "print(numbers) "
   ]
  },
  {
   "cell_type": "code",
   "execution_count": null,
   "metadata": {},
   "outputs": [],
   "source": [
    "#Remove an element\n",
    "import array as arr\n",
    "\n",
    "number = arr.array('i', [1, 2, 3, 3, 4])\n",
    "\n",
    "del number[2] # removing third element\n",
    "print(number) # Output: array('i', [1, 2, 3, 4])\n",
    "\n",
    "del number # deleting entire array\n",
    "print(number) # Error: array is not defined"
   ]
  },
  {
   "cell_type": "code",
   "execution_count": null,
   "metadata": {},
   "outputs": [],
   "source": [
    "import array as arr\n",
    "\n",
    "numbers = arr.array('i', [10, 11, 12, 12, 13])\n",
    "\n",
    "numbers.remove(12)\n",
    "print(numbers)   # Output: array('i', [10, 11, 12, 13])\n",
    "\n",
    "print(numbers.pop(2))   # Output: 12\n",
    "print(numbers)   # Output: array('i', [10, 11, 13])\n",
    "\n",
    "print(numbers.pop())"
   ]
  },
  {
   "cell_type": "code",
   "execution_count": 12,
   "metadata": {},
   "outputs": [
    {
     "name": "stdout",
     "output_type": "stream",
     "text": [
      "2021-10-19 16:45:02.231499\n",
      "<class 'datetime.datetime'>\n"
     ]
    }
   ],
   "source": [
    "#Predominantly used datetime modules are\n",
    "#date\n",
    "#time\n",
    "#datetime\n",
    "#timedelta\n",
    "#Get the current date and time\n",
    "import datetime\n",
    "\n",
    "\n",
    "datetime_object = datetime.datetime.now()\n",
    "print(datetime_object)\n",
    "print(type(datetime_object))"
   ]
  },
  {
   "cell_type": "code",
   "execution_count": 2,
   "metadata": {},
   "outputs": [
    {
     "name": "stdout",
     "output_type": "stream",
     "text": [
      "2021-10-19\n",
      "<class 'datetime.date'>\n"
     ]
    }
   ],
   "source": [
    "#Get current date alone\n",
    "import datetime\n",
    "\n",
    "date_object = datetime.date.today()\n",
    "print(date_object)\n",
    "print(type(date_object))"
   ]
  },
  {
   "cell_type": "code",
   "execution_count": 4,
   "metadata": {},
   "outputs": [
    {
     "name": "stdout",
     "output_type": "stream",
     "text": [
      "2019-03-07\n"
     ]
    }
   ],
   "source": [
    "#You can supply the year,month,date and get the records in teh date format\n",
    "\n",
    "import datetime\n",
    "\n",
    "d = datetime.date(2019, 3, 7)\n",
    "print(d)"
   ]
  },
  {
   "cell_type": "code",
   "execution_count": 10,
   "metadata": {},
   "outputs": [
    {
     "name": "stdout",
     "output_type": "stream",
     "text": [
      "Date = 2015-07-07\n"
     ]
    }
   ],
   "source": [
    "#You can fetch only the date from the timestamp, very commonly used in many real time projects\n",
    "#This can be done with the date function inside the datetime module.\n",
    "#The fromtimestamp() will return the date from the timestamp\n",
    "\n",
    "from datetime import date  #from modulename import function\n",
    "\n",
    "from datetime import time\n",
    "\n",
    "date1 = date.fromtimestamp(1436244398)\n",
    "\n",
    "print(\"Date =\", date1)\n"
   ]
  },
  {
   "cell_type": "code",
   "execution_count": 16,
   "metadata": {},
   "outputs": [
    {
     "name": "stdout",
     "output_type": "stream",
     "text": [
      "2021-10-19\n",
      "2021-10-19 16:49:02.860103\n",
      "Current year: 2021\n",
      "Current month: 10\n",
      "Current day: 19\n",
      "current_time: 16\n",
      "current_time: 49\n",
      "current_time: 2\n",
      "current_time: 860103\n"
     ]
    }
   ],
   "source": [
    "#WE can seperately fetch the year,month and date from the date field.\n",
    "from datetime import date\n",
    "import datetime\n",
    "# date object of today's date\n",
    "today_date = date.today() \n",
    "today_ts=datetime.datetime.today()\n",
    "print(today_date)\n",
    "print(today_ts)\n",
    "print(\"Current year:\", today_date.year)\n",
    "print(\"Current month:\", today_date.month)\n",
    "print(\"Current day:\", today_date.day)\n",
    "\n",
    "print(\"current_time:\",today_ts.hour)\n",
    "print(\"current_time:\",today_ts.minute)\n",
    "print(\"current_time:\",today_ts.second)\n",
    "print(\"current_time:\",today_ts.microsecond)"
   ]
  },
  {
   "cell_type": "code",
   "execution_count": 1,
   "metadata": {},
   "outputs": [
    {
     "name": "stdout",
     "output_type": "stream",
     "text": [
      "00:00:00\n",
      "b = 11:34:56\n",
      "c = 11:34:56\n",
      "d = 11:34:56.234566\n"
     ]
    }
   ],
   "source": [
    "#Now jumping on to time related stuffs like fetching only the hours,minutes and seconds\n",
    "#This can be done by extracting the time module from the datetime function\n",
    "from datetime import time\n",
    "\n",
    "\n",
    "a = time() #If no argument is passed time() will return hours,minutes and seconds as zeros\n",
    "print(a)\n",
    "\n",
    "# time(hour, minute and second)\n",
    "b = time(11, 34, 56) #11:34:56\n",
    "print(\"b =\", b)\n",
    "\n",
    "# time(hour, minute and second)\n",
    "c = time(hour = 11, minute = 34, second = 56)\n",
    "print(\"c =\", c)\n",
    "\n",
    "# time(hour, minute, second, microsecond)\n",
    "d = time(11, 34, 56, 234566) #the fourth parameter will besome the microsecond\n",
    "print(\"d =\", d)"
   ]
  },
  {
   "cell_type": "code",
   "execution_count": 2,
   "metadata": {},
   "outputs": [
    {
     "name": "stdout",
     "output_type": "stream",
     "text": [
      "2019-03-07 00:00:00\n",
      "2019-03-07 23:55:59.342380\n",
      "2021-10-19 16:56:29.129461\n",
      "16\n",
      "56\n",
      "29\n",
      "129461\n",
      "1634642789.129461\n"
     ]
    }
   ],
   "source": [
    "#Now when you want to work on both the date and the time modules together instead of splitting them into two different areas , we need to use datetime module\n",
    "\n",
    "from datetime import datetime\n",
    "\n",
    "#datetime(year, month, day)\n",
    "a = datetime(2019, 3, 7)\n",
    "print(a)\n",
    "\n",
    "# datetime(year, month, day, hour, minute, second, microsecond)\n",
    "b = datetime(2019,3,7, 23, 55, 59, 342380)\n",
    "print(b)\n",
    "\n",
    "c=datetime.now() #Supplying the current timestamp and getting the necessary values\n",
    "print(c)\n",
    "print(c.hour)\n",
    "print(c.minute)\n",
    "print(c.second)\n",
    "print(c.microsecond)\n",
    "print(c.timestamp())\n"
   ]
  },
  {
   "cell_type": "code",
   "execution_count": 3,
   "metadata": {},
   "outputs": [
    {
     "name": "stdout",
     "output_type": "stream",
     "text": [
      "2021-10-19 16:58:20.971666\n",
      "2019-02-07 13:20:20\n",
      "985 days, 3:38:00.971666\n"
     ]
    }
   ],
   "source": [
    "#you can find teh difference between two different time stamps using the inbuilt function timedelta in the datetime module.\n",
    "\n",
    "from datetime import timedelta,datetime\n",
    "\n",
    "a=datetime.now() #current_ts\n",
    "print(a)\n",
    "\n",
    "b=datetime(year=2019,month=2,day=7,hour=13,minute=20,second=20)\n",
    "\n",
    "print(b)\n",
    "#The difference is\n",
    "\n",
    "c=a-b\n",
    "print(c)\n",
    "\n"
   ]
  },
  {
   "cell_type": "code",
   "execution_count": 6,
   "metadata": {},
   "outputs": [
    {
     "name": "stdout",
     "output_type": "stream",
     "text": [
      "t3 = 4 days, 22:10:00\n",
      "2021-10-20 13:02:07.182041\n",
      "2020-10-19 17:02:07.182041\n"
     ]
    }
   ],
   "source": [
    "#You can achieve the above thing using a function called timedelta as well, but it accepts arguments only in this order\n",
    "#class timedelta(\t[days[, seconds[, microseconds[, milliseconds[, minutes[, hours[, weeks]]]]]]])\n",
    "from datetime import timedelta,datetime\n",
    "\n",
    "t1 = timedelta(days = 5,hours=10,minutes=30) #5 days,10 hrs,30 min\n",
    "t2 = timedelta(days = 10,hours=8,minutes=40)#minimum 1 parameter need to pass\n",
    "t3 = t2 - t1\n",
    "\n",
    "print(\"t3 =\", t3)\n",
    "\n",
    "present=datetime.now()\n",
    "#What will be date and time from 3 days , 2 hours,20 minutes later today\n",
    "future_time=present+timedelta(hours=20)\n",
    "print(future_time)\n",
    "\n",
    "#What was exact one year before from today(365 days)\n",
    "past=present-timedelta(days=365)\n",
    "print(past)\n",
    "\n",
    "\n"
   ]
  },
  {
   "cell_type": "code",
   "execution_count": 9,
   "metadata": {},
   "outputs": [
    {
     "name": "stdout",
     "output_type": "stream",
     "text": [
      "2021-10-19 17:08:50.279695\n",
      "<class 'datetime.datetime'>\n",
      "Time in string: 17:08:50\n",
      "<class 'str'>\n",
      "s1: 10-19-2021, 17:08:50\n",
      "s2: 19/10/2021, 17:08:50\n"
     ]
    }
   ],
   "source": [
    "#Formatting the date time usinf strftime()a nd strptime() methods\n",
    "\n",
    "#The strftime() is used to convert a datetime object into a string\n",
    "from datetime import datetime\n",
    "\n",
    "# current date and time\n",
    "now = datetime.now()\n",
    "\n",
    "print(now)\n",
    "print(type(now))\n",
    "t = now.strftime(\"%H:%M:%S\")\n",
    "print(\"Time in string:\", t)\n",
    "print(type(t))\n",
    "\n",
    "s1 = now.strftime(\"%m-%d-%Y, %H:%M:%S\")\n",
    "# mm/dd/YY H:M:S format. The complete ti\n",
    "print(\"s1:\", s1)\n",
    "\n",
    "s2 = now.strftime(\"%d/%m/%Y, %H:%M:%S\")\n",
    "# dd/mm/YY H:M:S format\n",
    "print(\"s2:\", s2)\n",
    "\n"
   ]
  },
  {
   "cell_type": "code",
   "execution_count": 8,
   "metadata": {},
   "outputs": [
    {
     "name": "stdout",
     "output_type": "stream",
     "text": [
      "<class 'str'>\n",
      "date_string = 07 March, 2019\n",
      "date_object = 2019-03-07 00:00:00\n",
      "<class 'datetime.datetime'>\n"
     ]
    }
   ],
   "source": [
    "#The strptime() is used to convert a string to a datetime object\n",
    "#By the way, %d, %B and %Y format codes are used for day, month(full name) and year respectively.\n",
    "#For more detailed understanding of every format read python documentation of strptime\n",
    "\n",
    "from datetime import datetime\n",
    "\n",
    "date_string = \"07 March, 2019\"\n",
    "print(type(date_string))\n",
    "print(\"date_string =\", date_string)\n",
    "\n",
    "date_object = datetime.strptime(date_string, \"%d %B, %Y\")\n",
    "print(\"date_object =\", date_object)\n",
    "print(type(date_object))"
   ]
  },
  {
   "cell_type": "code",
   "execution_count": null,
   "metadata": {},
   "outputs": [],
   "source": []
  }
 ],
 "metadata": {
  "kernelspec": {
   "display_name": "Python 3",
   "language": "python",
   "name": "python3"
  },
  "language_info": {
   "codemirror_mode": {
    "name": "ipython",
    "version": 3
   },
   "file_extension": ".py",
   "mimetype": "text/x-python",
   "name": "python",
   "nbconvert_exporter": "python",
   "pygments_lexer": "ipython3",
   "version": "3.8.8"
  }
 },
 "nbformat": 4,
 "nbformat_minor": 2
}
